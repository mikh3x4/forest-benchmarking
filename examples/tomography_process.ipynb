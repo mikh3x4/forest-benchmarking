{
 "cells": [
  {
   "cell_type": "markdown",
   "metadata": {},
   "source": [
    "# Process tomography\n",
    "Quantum process tomography involves\n",
    " - preparing a state\n",
    " - executing a process\n",
    " - measuring in a basis\n",
    " \n",
    "The process is kept fixed, while the experimental settings ((prep, measure) tuples) are varied. You first choose a suitable set of input states and measurement operators, and then run every `itertools.product` combinations of settings.\n",
    "\n",
    "For input states, we choose the SIC basis comprised of four states, and wee measure in the Pauli basis. The scalling w.r.t. number of qubits is therefore $4^n 3^n$, which is very exponential. If you use the $\\pm$ eigenstates of the pauli operators, it scales as $6^n 3^n$."
   ]
  },
  {
   "cell_type": "code",
   "execution_count": 1,
   "metadata": {},
   "outputs": [],
   "source": [
    "import numpy as np\n",
    "from pyquil import Program, get_qc\n",
    "from pyquil.gates import *"
   ]
  },
  {
   "cell_type": "markdown",
   "metadata": {},
   "source": [
    "## Construct a process\n",
    "Which is represented as a pyQuil `Program`"
   ]
  },
  {
   "cell_type": "code",
   "execution_count": 2,
   "metadata": {},
   "outputs": [
    {
     "name": "stdout",
     "output_type": "stream",
     "text": [
      "RX(pi) 0\n",
      "\n"
     ]
    }
   ],
   "source": [
    "qubits = [0]\n",
    "process = Program(RX(np.pi, qubits[0]))\n",
    "print(process)"
   ]
  },
  {
   "cell_type": "markdown",
   "metadata": {},
   "source": [
    "## Construct a `TomographyExperiment` for process tomography\n",
    "The `I` basis measurements are redundant, and can be grouped with other terms (see below)."
   ]
  },
  {
   "cell_type": "code",
   "execution_count": 3,
   "metadata": {},
   "outputs": [
    {
     "name": "stdout",
     "output_type": "stream",
     "text": [
      "RX(pi) 0\n",
      "0: X0_0→(1+0j)*X0\n",
      "1: X0_0→(1+0j)*Y0\n",
      "2: X0_0→(1+0j)*Z0\n",
      "3: X1_0→(1+0j)*X0\n",
      "4: X1_0→(1+0j)*Y0\n",
      "5: X1_0→(1+0j)*Z0\n",
      "6: Y0_0→(1+0j)*X0\n",
      "7: Y0_0→(1+0j)*Y0\n",
      "8: Y0_0→(1+0j)*Z0\n",
      "9: Y1_0→(1+0j)*X0\n",
      "10: Y1_0→(1+0j)*Y0\n",
      "11: Y1_0→(1+0j)*Z0\n",
      "12: Z0_0→(1+0j)*X0\n",
      "13: Z0_0→(1+0j)*Y0\n",
      "14: Z0_0→(1+0j)*Z0\n",
      "15: Z1_0→(1+0j)*X0\n",
      "16: Z1_0→(1+0j)*Y0\n",
      "17: Z1_0→(1+0j)*Z0\n"
     ]
    }
   ],
   "source": [
    "from forest.benchmarking.tomography import generate_process_tomography_experiment\n",
    "experiment = generate_process_tomography_experiment(process, qubits)\n",
    "print(experiment)"
   ]
  },
  {
   "cell_type": "markdown",
   "metadata": {},
   "source": [
    "## PyQuil will run the tomography programs"
   ]
  },
  {
   "cell_type": "code",
   "execution_count": 4,
   "metadata": {},
   "outputs": [
    {
     "data": {
      "text/plain": [
       "[ExperimentResult[X0_0→(1+0j)*X0: 1.0 +- 0.0],\n",
       " ExperimentResult[X0_0→(1+0j)*Y0: 0.032 +- 0.03160658159307962],\n",
       " ExperimentResult[X0_0→(1+0j)*Z0: -0.028 +- 0.03161037804266188],\n",
       " ExperimentResult[X1_0→(1+0j)*X0: -1.0 +- 0.0],\n",
       " ExperimentResult[X1_0→(1+0j)*Y0: 0.088 +- 0.03150009523795127],\n",
       " ExperimentResult[X1_0→(1+0j)*Z0: 0.022 +- 0.031615122963543886],\n",
       " ExperimentResult[Y0_0→(1+0j)*X0: 0.024 +- 0.031613667930184886],\n",
       " ExperimentResult[Y0_0→(1+0j)*Y0: -1.0 +- 0.0],\n",
       " ExperimentResult[Y0_0→(1+0j)*Z0: 0.03 +- 0.031608543148965274],\n",
       " ExperimentResult[Y1_0→(1+0j)*X0: 0.002 +- 0.031622713356067346],\n",
       " ExperimentResult[Y1_0→(1+0j)*Y0: 1.0 +- 0.0],\n",
       " ExperimentResult[Y1_0→(1+0j)*Z0: 0.026 +- 0.031612086296225375],\n",
       " ExperimentResult[Z0_0→(1+0j)*X0: -0.05 +- 0.03158322339470751],\n",
       " ExperimentResult[Z0_0→(1+0j)*Y0: 0.068 +- 0.03154958002890054],\n",
       " ExperimentResult[Z0_0→(1+0j)*Z0: -1.0 +- 0.0],\n",
       " ExperimentResult[Z1_0→(1+0j)*X0: -0.022 +- 0.031615122963543886],\n",
       " ExperimentResult[Z1_0→(1+0j)*Y0: -0.01 +- 0.03162119542332326],\n",
       " ExperimentResult[Z1_0→(1+0j)*Z0: 1.0 +- 0.0]]"
      ]
     },
     "execution_count": 4,
     "metadata": {},
     "output_type": "execute_result"
    }
   ],
   "source": [
    "from pyquil.operator_estimation import measure_observables\n",
    "\n",
    "qc = get_qc('2q-qvm')\n",
    "# Over-write full quilc compilation with a much more simple\n",
    "# version that *only* substitutes gates to Rigetti-native gates.\n",
    "# We don't want to accidentally compile away our tomography circuit\n",
    "# or map to different qubits.\n",
    "from forest.benchmarking.compilation import basic_compile\n",
    "qc.compiler.quil_to_native_quil = basic_compile\n",
    "\n",
    "results = list(measure_observables(qc=qc, tomo_experiment=experiment, n_shots=1000))\n",
    "results"
   ]
  },
  {
   "cell_type": "markdown",
   "metadata": {},
   "source": [
    "## Linear Inversion Estimate"
   ]
  },
  {
   "cell_type": "code",
   "execution_count": 5,
   "metadata": {},
   "outputs": [
    {
     "data": {
      "text/plain": [
       "array([[ 0.  -0.j  , -0.01-0.03j, -0.01+0.j  , -0.  +0.02j],\n",
       "       [-0.01+0.03j,  1.  -0.j  ,  1.  -0.01j,  0.01-0.j  ],\n",
       "       [-0.01-0.j  ,  1.  +0.01j,  1.  +0.j  ,  0.  +0.j  ],\n",
       "       [-0.  -0.02j,  0.01+0.j  ,  0.  -0.j  , -0.  +0.j  ]])"
      ]
     },
     "execution_count": 5,
     "metadata": {},
     "output_type": "execute_result"
    }
   ],
   "source": [
    "from forest.benchmarking.tomography import linear_inv_process_estimate\n",
    "lin_inv_process_choi_est = linear_inv_process_estimate(results, qubits)\n",
    "np.real_if_close(np.round(lin_inv_process_choi_est, 2))"
   ]
  },
  {
   "cell_type": "markdown",
   "metadata": {},
   "source": [
    "## PGDB Estimate"
   ]
  },
  {
   "cell_type": "code",
   "execution_count": 6,
   "metadata": {},
   "outputs": [
    {
     "data": {
      "text/plain": [
       "array([[-0.  +0.j  , -0.01-0.01j, -0.01-0.01j, -0.  -0.j  ],\n",
       "       [-0.01+0.01j,  1.  +0.j  ,  1.01-0.01j,  0.01+0.01j],\n",
       "       [-0.01+0.01j,  1.01+0.01j,  1.  +0.j  ,  0.01+0.01j],\n",
       "       [-0.  +0.j  ,  0.01-0.01j,  0.01-0.01j, -0.  -0.j  ]])"
      ]
     },
     "execution_count": 6,
     "metadata": {},
     "output_type": "execute_result"
    }
   ],
   "source": [
    "from forest.benchmarking.tomography import pgdb_process_estimate\n",
    "process_choi_est = pgdb_process_estimate(results, qubits)\n",
    "np.real_if_close(np.round(process_choi_est, 2))"
   ]
  },
  {
   "cell_type": "markdown",
   "metadata": {},
   "source": [
    "True Choi "
   ]
  },
  {
   "cell_type": "code",
   "execution_count": 7,
   "metadata": {},
   "outputs": [
    {
     "data": {
      "text/plain": [
       "array([[0., 0., 0., 0.],\n",
       "       [0., 1., 1., 0.],\n",
       "       [0., 1., 1., 0.],\n",
       "       [0., 0., 0., 0.]])"
      ]
     },
     "execution_count": 7,
     "metadata": {},
     "output_type": "execute_result"
    }
   ],
   "source": [
    "from forest.benchmarking.superoperator_tools import kraus2choi\n",
    "from pyquil.gate_matrices import X as X_matrix\n",
    "process_choi_ideal = kraus2choi(X_matrix)\n",
    "np.real_if_close(np.round(process_choi_ideal))"
   ]
  },
  {
   "cell_type": "markdown",
   "metadata": {},
   "source": [
    "## Plot Pauli Transfer Matrix of Estimate"
   ]
  },
  {
   "cell_type": "code",
   "execution_count": 8,
   "metadata": {},
   "outputs": [],
   "source": [
    "import matplotlib.pyplot as plt\n",
    "from forest.benchmarking.superoperator_tools import choi2pauli_liouville\n",
    "from forest.benchmarking.plotting.state_process import plot_pauli_transfer_matrix\n",
    "\n",
    "fig, (ax1, ax2) = plt.subplots(1, 2, figsize=(12,5))\n",
    "plot_pauli_transfer_matrix(np.real(choi2pauli_liouville(process_choi_ideal)), ax1, title='Ideal')\n",
    "plot_pauli_transfer_matrix(np.real(choi2pauli_liouville(process_choi_est)), ax2, title='Estimate')\n",
    "plt.tight_layout()"
   ]
  },
  {
   "cell_type": "markdown",
   "metadata": {},
   "source": [
    "## Two qubit example - CNOT"
   ]
  },
  {
   "cell_type": "code",
   "execution_count": 9,
   "metadata": {},
   "outputs": [
    {
     "name": "stdout",
     "output_type": "stream",
     "text": [
      "CNOT 0 1\n",
      "0: SIC0_0 * SIC0_1→(1+0j)*X1\n",
      "1: SIC0_0 * SIC0_1→(1+0j)*Y1\n",
      "2: SIC0_0 * SIC0_1→(1+0j)*Z1\n",
      "3: SIC0_0 * SIC0_1→(1+0j)*X0\n",
      "4: SIC0_0 * SIC0_1→(1+0j)*X0X1\n",
      "5: SIC0_0 * SIC0_1→(1+0j)*X0Y1\n",
      "6: SIC0_0 * SIC0_1→(1+0j)*X0Z1\n",
      "7: SIC0_0 * SIC0_1→(1+0j)*Y0\n",
      "8: SIC0_0 * SIC0_1→(1+0j)*Y0X1\n",
      "9: SIC0_0 * SIC0_1→(1+0j)*Y0Y1\n",
      "... 220 not shown ...\n",
      "... use e.settings_string() for all ...\n",
      "230: SIC3_0 * SIC3_1→(1+0j)*X0Y1\n",
      "231: SIC3_0 * SIC3_1→(1+0j)*X0Z1\n",
      "232: SIC3_0 * SIC3_1→(1+0j)*Y0\n",
      "233: SIC3_0 * SIC3_1→(1+0j)*Y0X1\n",
      "234: SIC3_0 * SIC3_1→(1+0j)*Y0Y1\n",
      "235: SIC3_0 * SIC3_1→(1+0j)*Y0Z1\n",
      "236: SIC3_0 * SIC3_1→(1+0j)*Z0\n",
      "237: SIC3_0 * SIC3_1→(1+0j)*Z0X1\n",
      "238: SIC3_0 * SIC3_1→(1+0j)*Z0Y1\n",
      "239: SIC3_0 * SIC3_1→(1+0j)*Z0Z1\n"
     ]
    }
   ],
   "source": [
    "qubits = [0, 1]\n",
    "process = Program(CNOT(qubits[0], qubits[1]))\n",
    "experiment = generate_process_tomography_experiment(process, qubits, in_basis='sic')\n",
    "print(experiment)"
   ]
  },
  {
   "cell_type": "code",
   "execution_count": 10,
   "metadata": {},
   "outputs": [
    {
     "data": {
      "text/plain": [
       "[ExperimentResult[SIC0_0 * SIC0_1→(1+0j)*X1: -0.008 +- 0.04471992844359213],\n",
       " ExperimentResult[SIC0_0 * SIC0_1→(1+0j)*Y1: 0.096 +- 0.044514806525469706],\n",
       " ExperimentResult[SIC0_0 * SIC0_1→(1+0j)*Z1: 1.0 +- 0.0],\n",
       " ExperimentResult[SIC0_0 * SIC0_1→(1+0j)*X0: -0.044 +- 0.0446780483011512],\n",
       " ExperimentResult[SIC0_0 * SIC0_1→(1+0j)*X0X1: 0.08 +- 0.0445780214904161],\n",
       " ExperimentResult[SIC0_0 * SIC0_1→(1+0j)*X0Y1: 0.012 +- 0.04471813949618208],\n",
       " ExperimentResult[SIC0_0 * SIC0_1→(1+0j)*X0Z1: 0.02 +- 0.04471241438347967],\n",
       " ExperimentResult[SIC0_0 * SIC0_1→(1+0j)*Y0: -0.032 +- 0.04469845634918503],\n",
       " ExperimentResult[SIC0_0 * SIC0_1→(1+0j)*Y0X1: -0.048 +- 0.04466981083461179],\n",
       " ExperimentResult[SIC0_0 * SIC0_1→(1+0j)*Y0Y1: -0.016 +- 0.04471563484956912]]"
      ]
     },
     "execution_count": 10,
     "metadata": {},
     "output_type": "execute_result"
    }
   ],
   "source": [
    "results = list(measure_observables(qc=qc, tomo_experiment=experiment, n_shots=500))\n",
    "results[:10]"
   ]
  },
  {
   "cell_type": "code",
   "execution_count": 11,
   "metadata": {},
   "outputs": [],
   "source": [
    "def _print_big_matrix(mat):\n",
    "    for row in mat:\n",
    "        for elem in row:\n",
    "            elem = np.real_if_close(np.round(elem, 4), tol=.1)\n",
    "            if not np.isclose(elem,0, atol=.1):\n",
    "                print(f'{elem:.1f}', end=' ')\n",
    "            else:\n",
    "                print(' . ', end=' ')\n",
    "        print()"
   ]
  },
  {
   "cell_type": "code",
   "execution_count": 12,
   "metadata": {},
   "outputs": [
    {
     "name": "stdout",
     "output_type": "stream",
     "text": [
      "1.0  .   .   .   .  1.0  .   .   .   .   .  1.0  .   .  1.0  .  \n",
      " .   .   .   .   .   .   .   .   .   .   .   .   .   .   .   .  \n",
      " .   .   .   .   .   .   .   .   .   .   .   .   .   .   .   .  \n",
      " .   .   .   .   .   .   .   .   .   .   .   .   .   .   .   .  \n",
      " .   .   .   .   .   .   .   .   .   .   .   .   .   .   .   .  \n",
      "1.0  .   .   .   .  1.0  .   .   .   .   .  1.0  .   .  1.0  .  \n",
      " .   .   .   .   .   .   .   .   .   .   .   .   .   .   .   .  \n",
      " .   .   .   .   .   .   .   .   .   .   .   .   .   .   .   .  \n",
      " .   .   .   .   .   .   .   .   .   .   .   .   .   .   .   .  \n",
      " .   .   .   .   .   .   .   .   .   .   .   .   .   .   .   .  \n",
      " .   .   .   .   .   .   .   .   .   .   .   .   .   .   .   .  \n",
      "1.0  .   .   .   .  1.0  .   .   .   .   .  1.0  .   .  1.0  .  \n",
      " .   .   .   .   .   .   .   .   .   .   .   .   .   .   .   .  \n",
      " .   .   .   .   .   .   .   .   .   .   .   .   .   .   .   .  \n",
      "1.0  .   .   .   .  1.0  .   .   .   .   .  1.0  .   .  1.0  .  \n",
      " .   .   .   .   .   .   .   .   .   .   .   .   .   .   .   .  \n"
     ]
    }
   ],
   "source": [
    "lin_inv_process_choi_est = linear_inv_process_estimate(results, qubits)\n",
    "_print_big_matrix(lin_inv_process_choi_est)"
   ]
  },
  {
   "cell_type": "code",
   "execution_count": 13,
   "metadata": {},
   "outputs": [
    {
     "name": "stdout",
     "output_type": "stream",
     "text": [
      "1.0  .   .   .   .  1.0  .   .   .   .   .  1.0  .   .  1.0  .  \n",
      " .   .   .   .   .   .   .   .   .   .   .   .   .   .   .   .  \n",
      " .   .   .   .   .   .   .   .   .   .   .   .   .   .   .   .  \n",
      " .   .   .   .   .   .   .   .   .   .   .   .   .   .   .   .  \n",
      " .   .   .   .   .   .   .   .   .   .   .   .   .   .   .   .  \n",
      "1.0  .   .   .   .  1.0  .   .   .   .   .  1.0  .   .  1.0  .  \n",
      " .   .   .   .   .   .   .   .   .   .   .   .   .   .   .   .  \n",
      " .   .   .   .   .   .   .   .   .   .   .   .   .   .   .   .  \n",
      " .   .   .   .   .   .   .   .   .   .   .   .   .   .   .   .  \n",
      " .   .   .   .   .   .   .   .   .   .   .   .   .   .   .   .  \n",
      " .   .   .   .   .   .   .   .   .   .   .   .   .   .   .   .  \n",
      "1.0  .   .   .   .  1.0  .   .   .   .   .  1.0  .   .  1.0  .  \n",
      " .   .   .   .   .   .   .   .   .   .   .   .   .   .   .   .  \n",
      " .   .   .   .   .   .   .   .   .   .   .   .   .   .   .   .  \n",
      "1.0  .   .   .   .  1.0  .   .   .   .   .  1.0  .   .  1.0  .  \n",
      " .   .   .   .   .   .   .   .   .   .   .   .   .   .   .   .  \n"
     ]
    }
   ],
   "source": [
    "process_choi_est = pgdb_process_estimate(results, qubits)\n",
    "_print_big_matrix(process_choi_est)"
   ]
  },
  {
   "cell_type": "code",
   "execution_count": 14,
   "metadata": {},
   "outputs": [
    {
     "name": "stdout",
     "output_type": "stream",
     "text": [
      "1.0  .   .   .   .  1.0  .   .   .   .   .  1.0  .   .  1.0  .  \n",
      " .   .   .   .   .   .   .   .   .   .   .   .   .   .   .   .  \n",
      " .   .   .   .   .   .   .   .   .   .   .   .   .   .   .   .  \n",
      " .   .   .   .   .   .   .   .   .   .   .   .   .   .   .   .  \n",
      " .   .   .   .   .   .   .   .   .   .   .   .   .   .   .   .  \n",
      "1.0  .   .   .   .  1.0  .   .   .   .   .  1.0  .   .  1.0  .  \n",
      " .   .   .   .   .   .   .   .   .   .   .   .   .   .   .   .  \n",
      " .   .   .   .   .   .   .   .   .   .   .   .   .   .   .   .  \n",
      " .   .   .   .   .   .   .   .   .   .   .   .   .   .   .   .  \n",
      " .   .   .   .   .   .   .   .   .   .   .   .   .   .   .   .  \n",
      " .   .   .   .   .   .   .   .   .   .   .   .   .   .   .   .  \n",
      "1.0  .   .   .   .  1.0  .   .   .   .   .  1.0  .   .  1.0  .  \n",
      " .   .   .   .   .   .   .   .   .   .   .   .   .   .   .   .  \n",
      " .   .   .   .   .   .   .   .   .   .   .   .   .   .   .   .  \n",
      "1.0  .   .   .   .  1.0  .   .   .   .   .  1.0  .   .  1.0  .  \n",
      " .   .   .   .   .   .   .   .   .   .   .   .   .   .   .   .  \n"
     ]
    }
   ],
   "source": [
    "from pyquil.gate_matrices import CNOT as CNOT_matrix\n",
    "process_choi_ideal = kraus2choi(CNOT_matrix)\n",
    "_print_big_matrix(process_choi_ideal)"
   ]
  },
  {
   "cell_type": "code",
   "execution_count": 15,
   "metadata": {},
   "outputs": [
    {
     "ename": "TypeError",
     "evalue": "Image data cannot be converted to float",
     "output_type": "error",
     "traceback": [
      "\u001b[0;31m---------------------------------------------------------------------------\u001b[0m",
      "\u001b[0;31mTypeError\u001b[0m                                 Traceback (most recent call last)",
      "\u001b[0;32m<ipython-input-15-1c4c85ea89a9>\u001b[0m in \u001b[0;36m<module>\u001b[0;34m()\u001b[0m\n\u001b[1;32m      1\u001b[0m \u001b[0mfig\u001b[0m\u001b[0;34m,\u001b[0m \u001b[0;34m(\u001b[0m\u001b[0max1\u001b[0m\u001b[0;34m,\u001b[0m \u001b[0max2\u001b[0m\u001b[0;34m)\u001b[0m \u001b[0;34m=\u001b[0m \u001b[0mplt\u001b[0m\u001b[0;34m.\u001b[0m\u001b[0msubplots\u001b[0m\u001b[0;34m(\u001b[0m\u001b[0;36m1\u001b[0m\u001b[0;34m,\u001b[0m \u001b[0;36m2\u001b[0m\u001b[0;34m,\u001b[0m \u001b[0mfigsize\u001b[0m\u001b[0;34m=\u001b[0m\u001b[0;34m(\u001b[0m\u001b[0;36m12\u001b[0m\u001b[0;34m,\u001b[0m\u001b[0;36m5\u001b[0m\u001b[0;34m)\u001b[0m\u001b[0;34m)\u001b[0m\u001b[0;34m\u001b[0m\u001b[0m\n\u001b[0;32m----> 2\u001b[0;31m \u001b[0mplot_pauli_transfer_matrix\u001b[0m\u001b[0;34m(\u001b[0m\u001b[0mchoi2pauli_liouville\u001b[0m\u001b[0;34m(\u001b[0m\u001b[0mprocess_choi_ideal\u001b[0m\u001b[0;34m)\u001b[0m\u001b[0;34m,\u001b[0m \u001b[0max1\u001b[0m\u001b[0;34m,\u001b[0m \u001b[0mtitle\u001b[0m\u001b[0;34m=\u001b[0m\u001b[0;34m'Ideal'\u001b[0m\u001b[0;34m)\u001b[0m\u001b[0;34m\u001b[0m\u001b[0m\n\u001b[0m\u001b[1;32m      3\u001b[0m \u001b[0mplot_pauli_transfer_matrix\u001b[0m\u001b[0;34m(\u001b[0m\u001b[0mchoi2pauli_liouville\u001b[0m\u001b[0;34m(\u001b[0m\u001b[0mprocess_choi_est\u001b[0m\u001b[0;34m)\u001b[0m\u001b[0;34m,\u001b[0m \u001b[0max2\u001b[0m\u001b[0;34m,\u001b[0m \u001b[0mtitle\u001b[0m\u001b[0;34m=\u001b[0m\u001b[0;34m'Estimate'\u001b[0m\u001b[0;34m)\u001b[0m\u001b[0;34m\u001b[0m\u001b[0m\n\u001b[1;32m      4\u001b[0m \u001b[0mplt\u001b[0m\u001b[0;34m.\u001b[0m\u001b[0mtight_layout\u001b[0m\u001b[0;34m(\u001b[0m\u001b[0;34m)\u001b[0m\u001b[0;34m\u001b[0m\u001b[0m\n",
      "\u001b[0;32m~/forest-benchmarking/forest/benchmarking/plotting/state_process.py\u001b[0m in \u001b[0;36mplot_pauli_transfer_matrix\u001b[0;34m(ptransfermatrix, ax, labels, title, fontsizes)\u001b[0m\n\u001b[1;32m     98\u001b[0m     \u001b[0;34m:\u001b[0m\u001b[0mrtype\u001b[0m\u001b[0;34m:\u001b[0m \u001b[0mAxesSubplot\u001b[0m\u001b[0;34m\u001b[0m\u001b[0m\n\u001b[1;32m     99\u001b[0m     \"\"\"\n\u001b[0;32m--> 100\u001b[0;31m     \u001b[0mim\u001b[0m \u001b[0;34m=\u001b[0m \u001b[0max\u001b[0m\u001b[0;34m.\u001b[0m\u001b[0mimshow\u001b[0m\u001b[0;34m(\u001b[0m\u001b[0mptransfermatrix\u001b[0m\u001b[0;34m,\u001b[0m \u001b[0minterpolation\u001b[0m\u001b[0;34m=\u001b[0m\u001b[0;34m\"nearest\"\u001b[0m\u001b[0;34m,\u001b[0m \u001b[0mcmap\u001b[0m\u001b[0;34m=\u001b[0m\u001b[0;34m\"RdBu\"\u001b[0m\u001b[0;34m,\u001b[0m \u001b[0mvmin\u001b[0m\u001b[0;34m=\u001b[0m\u001b[0;34m-\u001b[0m\u001b[0;36m1\u001b[0m\u001b[0;34m,\u001b[0m \u001b[0mvmax\u001b[0m\u001b[0;34m=\u001b[0m\u001b[0;36m1\u001b[0m\u001b[0;34m)\u001b[0m\u001b[0;34m\u001b[0m\u001b[0m\n\u001b[0m\u001b[1;32m    101\u001b[0m     \u001b[0;32mif\u001b[0m \u001b[0mlabels\u001b[0m \u001b[0;32mis\u001b[0m \u001b[0;32mNone\u001b[0m\u001b[0;34m:\u001b[0m\u001b[0;34m\u001b[0m\u001b[0m\n\u001b[1;32m    102\u001b[0m         \u001b[0mdim_squared\u001b[0m \u001b[0;34m=\u001b[0m \u001b[0mptransfermatrix\u001b[0m\u001b[0;34m.\u001b[0m\u001b[0mshape\u001b[0m\u001b[0;34m[\u001b[0m\u001b[0;36m0\u001b[0m\u001b[0;34m]\u001b[0m\u001b[0;34m\u001b[0m\u001b[0m\n",
      "\u001b[0;32m~/anaconda3/lib/python3.6/site-packages/matplotlib/__init__.py\u001b[0m in \u001b[0;36minner\u001b[0;34m(ax, *args, **kwargs)\u001b[0m\n\u001b[1;32m   1708\u001b[0m                     warnings.warn(msg % (label_namer, func.__name__),\n\u001b[1;32m   1709\u001b[0m                                   RuntimeWarning, stacklevel=2)\n\u001b[0;32m-> 1710\u001b[0;31m             \u001b[0;32mreturn\u001b[0m \u001b[0mfunc\u001b[0m\u001b[0;34m(\u001b[0m\u001b[0max\u001b[0m\u001b[0;34m,\u001b[0m \u001b[0;34m*\u001b[0m\u001b[0margs\u001b[0m\u001b[0;34m,\u001b[0m \u001b[0;34m**\u001b[0m\u001b[0mkwargs\u001b[0m\u001b[0;34m)\u001b[0m\u001b[0;34m\u001b[0m\u001b[0m\n\u001b[0m\u001b[1;32m   1711\u001b[0m         \u001b[0mpre_doc\u001b[0m \u001b[0;34m=\u001b[0m \u001b[0minner\u001b[0m\u001b[0;34m.\u001b[0m\u001b[0m__doc__\u001b[0m\u001b[0;34m\u001b[0m\u001b[0m\n\u001b[1;32m   1712\u001b[0m         \u001b[0;32mif\u001b[0m \u001b[0mpre_doc\u001b[0m \u001b[0;32mis\u001b[0m \u001b[0;32mNone\u001b[0m\u001b[0;34m:\u001b[0m\u001b[0;34m\u001b[0m\u001b[0m\n",
      "\u001b[0;32m~/anaconda3/lib/python3.6/site-packages/matplotlib/axes/_axes.py\u001b[0m in \u001b[0;36mimshow\u001b[0;34m(self, X, cmap, norm, aspect, interpolation, alpha, vmin, vmax, origin, extent, shape, filternorm, filterrad, imlim, resample, url, **kwargs)\u001b[0m\n\u001b[1;32m   5192\u001b[0m                               resample=resample, **kwargs)\n\u001b[1;32m   5193\u001b[0m \u001b[0;34m\u001b[0m\u001b[0m\n\u001b[0;32m-> 5194\u001b[0;31m         \u001b[0mim\u001b[0m\u001b[0;34m.\u001b[0m\u001b[0mset_data\u001b[0m\u001b[0;34m(\u001b[0m\u001b[0mX\u001b[0m\u001b[0;34m)\u001b[0m\u001b[0;34m\u001b[0m\u001b[0m\n\u001b[0m\u001b[1;32m   5195\u001b[0m         \u001b[0mim\u001b[0m\u001b[0;34m.\u001b[0m\u001b[0mset_alpha\u001b[0m\u001b[0;34m(\u001b[0m\u001b[0malpha\u001b[0m\u001b[0;34m)\u001b[0m\u001b[0;34m\u001b[0m\u001b[0m\n\u001b[1;32m   5196\u001b[0m         \u001b[0;32mif\u001b[0m \u001b[0mim\u001b[0m\u001b[0;34m.\u001b[0m\u001b[0mget_clip_path\u001b[0m\u001b[0;34m(\u001b[0m\u001b[0;34m)\u001b[0m \u001b[0;32mis\u001b[0m \u001b[0;32mNone\u001b[0m\u001b[0;34m:\u001b[0m\u001b[0;34m\u001b[0m\u001b[0m\n",
      "\u001b[0;32m~/anaconda3/lib/python3.6/site-packages/matplotlib/image.py\u001b[0m in \u001b[0;36mset_data\u001b[0;34m(self, A)\u001b[0m\n\u001b[1;32m    598\u001b[0m         if (self._A.dtype != np.uint8 and\n\u001b[1;32m    599\u001b[0m                 not np.can_cast(self._A.dtype, float, \"same_kind\")):\n\u001b[0;32m--> 600\u001b[0;31m             \u001b[0;32mraise\u001b[0m \u001b[0mTypeError\u001b[0m\u001b[0;34m(\u001b[0m\u001b[0;34m\"Image data cannot be converted to float\"\u001b[0m\u001b[0;34m)\u001b[0m\u001b[0;34m\u001b[0m\u001b[0m\n\u001b[0m\u001b[1;32m    601\u001b[0m \u001b[0;34m\u001b[0m\u001b[0m\n\u001b[1;32m    602\u001b[0m         if not (self._A.ndim == 2\n",
      "\u001b[0;31mTypeError\u001b[0m: Image data cannot be converted to float"
     ]
    },
    {
     "data": {
      "image/png": "[encoded data removed]",
      "text/plain": [
       "<matplotlib.figure.Figure at 0x7fdd162aac88>"
      ]
     },
     "metadata": {},
     "output_type": "display_data"
    }
   ],
   "source": [
    "fig, (ax1, ax2) = plt.subplots(1, 2, figsize=(12,5))\n",
    "plot_pauli_transfer_matrix(choi2pauli_liouville(process_choi_ideal), ax1, title='Ideal')\n",
    "plot_pauli_transfer_matrix(choi2pauli_liouville(process_choi_est), ax2, title='Estimate')\n",
    "plt.tight_layout()"
   ]
  }
 ],
 "metadata": {
  "kernelspec": {
   "display_name": "Python 3",
   "language": "python",
   "name": "python3"
  },
  "language_info": {
   "codemirror_mode": {
    "name": "ipython",
    "version": 3
   },
   "file_extension": ".py",
   "mimetype": "text/x-python",
   "name": "python",
   "nbconvert_exporter": "python",
   "pygments_lexer": "ipython3",
   "version": "3.6.5"
  }
 },
 "nbformat": 4,
 "nbformat_minor": 2
}
