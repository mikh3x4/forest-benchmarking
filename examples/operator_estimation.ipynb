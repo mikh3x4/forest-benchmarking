{
 "cells": [
  {
   "cell_type": "markdown",
   "metadata": {},
   "source": [
<<<<<<< HEAD
    "# Operator Estimation\n",
    "\n",
    "Measure observables is a convenient abstraction that allows...."
=======
    "# Operator Estimation"
>>>>>>> meas-obs-refactor
   ]
  },
  {
   "cell_type": "code",
<<<<<<< HEAD
   "execution_count": 38,
   "metadata": {},
   "outputs": [],
   "source": [
    "import numpy as np\n",
    "from pyquil import Program, get_qc\n",
    "from pyquil.gates import *"
=======
   "execution_count": 1,
   "metadata": {},
   "outputs": [
    {
     "name": "stderr",
     "output_type": "stream",
     "text": [
      "/home/kylegulshen/anaconda3/lib/python3.6/site-packages/rpcq/messages.py:314: UserWarning: Message RPCReply ignoring unexpected keyword arguments: warnings.\n",
      "  \"{}.\").format(self.__class__.__name__, \", \".join(kwargs.keys())))\n"
     ]
    }
   ],
   "source": [
    "import numpy as np\n",
    "from pyquil import Program, get_qc\n",
    "from pyquil.gates import *\n",
    "qc = get_qc('2q-qvm', noisy=True)"
>>>>>>> meas-obs-refactor
   ]
  },
  {
   "cell_type": "markdown",
   "metadata": {},
   "source": [
<<<<<<< HEAD
    "## Construct a state with a `Program`\n"
=======
    "## Construct a `ObservablesExperiment` and turn it into a list of `Programs`\n"
>>>>>>> meas-obs-refactor
   ]
  },
  {
   "cell_type": "code",
<<<<<<< HEAD
   "execution_count": 64,
=======
   "execution_count": 2,
>>>>>>> meas-obs-refactor
   "metadata": {},
   "outputs": [
    {
     "name": "stdout",
     "output_type": "stream",
     "text": [
<<<<<<< HEAD
      "H 1\n",
      "\n"
=======
      "ExperimentSettings:\n",
      "==================\n",
      " [ExperimentSetting[X0_0→(1+0j)*X0], ExperimentSetting[X0_0→(1+0j)*Y0], ExperimentSetting[X0_0→(1+0j)*Z0]] \n",
      "\n",
      "ObservablesExperiment:\n",
      "======================\n",
      " \n",
      "0: X0_0→(1+0j)*X0\n",
      "1: X0_0→(1+0j)*Y0\n",
      "2: X0_0→(1+0j)*Z0 \n",
      "\n",
      "Programs and Qubits:\n",
      "======================\n",
      "\n",
      "RX(pi/2) 0\n",
      "RZ(pi/2) 0\n",
      "RX(-pi/2) 0\n",
      "RX(pi/2) 0\n",
      "RZ(-pi/2) 0\n",
      "RX(-pi/2) 0\n",
      " [0]\n",
      "RX(pi/2) 0\n",
      "RZ(pi/2) 0\n",
      "RX(-pi/2) 0\n",
      "RX(pi/2) 0\n",
      " [0]\n",
      "RX(pi/2) 0\n",
      "RZ(pi/2) 0\n",
      "RX(-pi/2) 0\n",
      " [0]\n"
>>>>>>> meas-obs-refactor
     ]
    }
   ],
   "source": [
<<<<<<< HEAD
    "qubits = [0]\n",
    "prog = Program(H(qubit))\n",
    "print(prog)"
=======
    "from pyquil.paulis import *\n",
    "from forest.benchmarking.operator_estimation import ExperimentSetting, plusX, ObservablesExperiment, generate_experiment_programs\n",
    "q = 0\n",
    "# make ExperimentSettings for tomographing the plus state\n",
    "expt_settings = [ExperimentSetting(plusX(q), pt) for pt in [sX(q), sY(q), sZ(q)]]\n",
    "print('ExperimentSettings:\\n==================\\n',expt_settings,'\\n')\n",
    "\n",
    "# make an ObservablesExperiment\n",
    "obs_expt = ObservablesExperiment(expt_settings, program=Program())\n",
    "print('ObservablesExperiment:\\n======================\\n',obs_expt,'\\n')\n",
    "\n",
    "# convert it to a list of programs and a list of qubits for each program\n",
    "expt_progs, qubits = generate_experiment_programs(obs_expt)\n",
    "print('Programs and Qubits:\\n======================\\n')\n",
    "for prog, qs in zip(expt_progs, qubits):\n",
    "    print(prog, qs)\n"
>>>>>>> meas-obs-refactor
   ]
  },
  {
   "cell_type": "markdown",
   "metadata": {},
   "source": [
<<<<<<< HEAD
    "## Construct a `ObservablesExperiment` and turn it into a list of `Programs`\n"
=======
    "## At this point we can run directly or first symmetrize"
   ]
  },
  {
   "cell_type": "markdown",
   "metadata": {},
   "source": [
    "## 1) run programs directly"
>>>>>>> meas-obs-refactor
   ]
  },
  {
   "cell_type": "code",
<<<<<<< HEAD
   "execution_count": 80,
=======
   "execution_count": 3,
>>>>>>> meas-obs-refactor
   "metadata": {},
   "outputs": [
    {
     "name": "stdout",
     "output_type": "stream",
     "text": [
<<<<<<< HEAD
      "ExperimentSetting:\n",
      "==================\n",
      " [ExperimentSetting[Z0_0→(1+0j)*I], ExperimentSetting[Z0_0→(1+0j)*X0], ExperimentSetting[Z0_0→(1+0j)*Y0], ExperimentSetting[Z0_0→(1+0j)*Z0]] \n",
      "\n",
      "ObservablesExperiment:\n",
      "======================\n",
      " H 1\n",
      "0: Z0_0→(1+0j)*I\n",
      "1: Z0_0→(1+0j)*X0\n",
      "2: Z0_0→(1+0j)*Y0\n",
      "3: Z0_0→(1+0j)*Z0 \n",
      "\n",
      "Programs and Qubits:\n",
      "======================\n",
      " ([<pyquil.quil.Program object at 0xa167e86a0>, <pyquil.quil.Program object at 0xa162a2390>, <pyquil.quil.Program object at 0xa167e82e8>, <pyquil.quil.Program object at 0xa162a2c18>], [[], [0], [0], [0]])\n"
=======
      "[[0]\n",
      " [0]\n",
      " [0]\n",
      " [0]\n",
      " [0]]\n",
      "[[1]\n",
      " [1]\n",
      " [1]\n",
      " [1]\n",
      " [1]]\n",
      "[[1]\n",
      " [0]\n",
      " [1]\n",
      " [0]\n",
      " [0]]\n"
     ]
    }
   ],
   "source": [
    "from forest.benchmarking.operator_estimation import _measure_bitstrings\n",
    "# this is a simple wrapper that adds measure instructions for each qubit in qubits and runs each program.\n",
    "results = _measure_bitstrings(qc, expt_progs, qubits, num_shots=5)\n",
    "for bits in results:\n",
    "    print(bits)"
   ]
  },
  {
   "cell_type": "markdown",
   "metadata": {},
   "source": [
    "## 2) First symmetrize, then run"
   ]
  },
  {
   "cell_type": "markdown",
   "metadata": {},
   "source": [
    "A symmetrization method should return  \n",
    "1. a list of programs \n",
    "2. a list of measurement qubits associated with each program\n",
    "3. a list of bits/bools indicating which qubits where flipped before measurement for each program\n",
    "4. a list of ints indicating the group of results to which each program's outputs should be re-assigned after correction"
   ]
  },
  {
   "cell_type": "code",
   "execution_count": 4,
   "metadata": {},
   "outputs": [
    {
     "name": "stdout",
     "output_type": "stream",
     "text": [
      "2 symmetrized programs for each original:\n",
      "======================\n",
      "\n",
      "RX(pi/2) 0\n",
      "RZ(pi/2) 0\n",
      "RX(-pi/2) 0\n",
      "RX(pi/2) 0\n",
      "RZ(-pi/2) 0\n",
      "RX(-pi/2) 0\n",
      "\n",
      "RX(pi/2) 0\n",
      "RZ(pi/2) 0\n",
      "RX(-pi/2) 0\n",
      "RX(pi/2) 0\n",
      "RZ(-pi/2) 0\n",
      "RX(-pi/2) 0\n",
      "RX(pi) 0\n",
      "\n",
      "RX(pi/2) 0\n",
      "RZ(pi/2) 0\n",
      "RX(-pi/2) 0\n",
      "RX(pi/2) 0\n",
      "\n",
      "RX(pi/2) 0\n",
      "RZ(pi/2) 0\n",
      "RX(-pi/2) 0\n",
      "RX(pi/2) 0\n",
      "RX(pi) 0\n",
      "\n",
      "RX(pi/2) 0\n",
      "RZ(pi/2) 0\n",
      "RX(-pi/2) 0\n",
      "\n",
      "RX(pi/2) 0\n",
      "RZ(pi/2) 0\n",
      "RX(-pi/2) 0\n",
      "RX(pi) 0\n",
      "\n",
      "After consolidating we have twice the number of (symmetrized) shots as above:\n",
      "======================\n",
      "\n",
      "[[1]\n",
      " [0]\n",
      " [0]\n",
      " [1]\n",
      " [0]\n",
      " [0]\n",
      " [0]\n",
      " [0]\n",
      " [0]\n",
      " [1]]\n",
      "[[1]\n",
      " [1]\n",
      " [1]\n",
      " [1]\n",
      " [1]\n",
      " [0]\n",
      " [0]\n",
      " [1]\n",
      " [1]\n",
      " [0]]\n",
      "[[1]\n",
      " [0]\n",
      " [0]\n",
      " [1]\n",
      " [0]\n",
      " [0]\n",
      " [0]\n",
      " [1]\n",
      " [0]\n",
      " [1]]\n"
>>>>>>> meas-obs-refactor
     ]
    }
   ],
   "source": [
<<<<<<< HEAD
    "from pyquil.paulis import *\n",
    "from forest.benchmarking.operator_estimation import ExperimentSetting, zeros_state,ObservablesExperiment, generate_experiment_programs\n",
    "\n",
    "# make ExperimentSetting\n",
    "expt_settings = [ExperimentSetting(zeros_state([0]), pt) for pt in [sI(0), sX(0), sY(0), sZ(0)]]\n",
    "print('ExperimentSetting:\\n==================\\n',expt_settings,'\\n')\n",
    "\n",
    "# make an ObservablesExperiment\n",
    "obs_expt = ObservablesExperiment(expt_settings, program=prog)\n",
    "print('ObservablesExperiment:\\n======================\\n',obs_expt,'\\n')\n",
    "\n",
    "# convert it to a list of programs and a list of qubits\n",
    "expt_progs = generate_experiment_programs(obs_expt, active_reset=False)\n",
    "print('Programs and Qubits:\\n======================\\n', expt_progs)"
=======
    "from forest.benchmarking.operator_estimation import exhaustive_symmetrization, consolidate_symmetrization_outputs\n",
    "symm_progs, symm_qs, flip_arrays, groups = exhaustive_symmetrization(expt_progs, qubits)\n",
    "print('2 symmetrized programs for each original:\\n======================\\n')\n",
    "for prog in symm_progs:\n",
    "    print(prog)\n",
    "\n",
    "# now these programs can be run as above\n",
    "results = _measure_bitstrings(qc, symm_progs, symm_qs, num_shots=5)\n",
    "\n",
    "# we now need to consolidate these results using the information in flip_arrays and groups \n",
    "results = consolidate_symmetrization_outputs(results, flip_arrays, groups)\n",
    "\n",
    "print('After consolidating we have twice the number of (symmetrized) shots as above:\\n======================\\n')\n",
    "# we now have twice the number of symmetrized shots\n",
    "for bits in results:\n",
    "    print(bits)"
>>>>>>> meas-obs-refactor
   ]
  },
  {
   "cell_type": "markdown",
   "metadata": {},
   "source": [
<<<<<<< HEAD
    "## PyQuil will run the tomography programs"
=======
    "## Now we can translate our bitarray shots into ExperimentResults with expectation values"
>>>>>>> meas-obs-refactor
   ]
  },
  {
   "cell_type": "code",
<<<<<<< HEAD
   "execution_count": null,
   "metadata": {},
   "outputs": [],
   "source": [
    "from pyquil.operator_estimation import measure_observables\n",
    "\n",
    "qc = get_qc('2q-qvm')\n",
    "# Over-write full quilc compilation with a much more simple\n",
    "# version that *only* substitutes gates to Rigetti-native gates.\n",
    "# We don't want to accidentally compile away our tomography circuit\n",
    "# or map to different qubits.\n",
    "from forest.benchmarking.compilation import basic_compile\n",
    "qc.compiler.quil_to_native_quil = basic_compile\n",
    "\n",
    "results = list(measure_observables(qc=qc, tomo_experiment=experiment, n_shots=1_000))\n",
    "results"
   ]
  },
  {
   "cell_type": "code",
   "execution_count": null,
   "metadata": {},
   "outputs": [],
   "source": []
  },
  {
   "cell_type": "code",
   "execution_count": null,
   "metadata": {},
   "outputs": [],
   "source": []
  },
  {
   "cell_type": "code",
   "execution_count": null,
   "metadata": {},
   "outputs": [],
   "source": []
=======
   "execution_count": 5,
   "metadata": {},
   "outputs": [
    {
     "name": "stdout",
     "output_type": "stream",
     "text": [
      "X0_0→(1+0j)*X0: 0.4 +- 0.28982753492378877\n",
      "X0_0→(1+0j)*Y0: -0.4 +- 0.28982753492378877\n",
      "X0_0→(1+0j)*Z0: 0.2 +- 0.30983866769659335\n"
     ]
    }
   ],
   "source": [
    "from forest.benchmarking.operator_estimation import shots_to_obs_moments, ExperimentResult\n",
    "\n",
    "expt_results_as_obs = []\n",
    "# we use the settings from the ObservableExperiment to label our results\n",
    "for bitarray, meas_qs, settings in zip(results, qubits, obs_expt):\n",
    "    # settings is a list of settings run simultaneously for a given program;\n",
    "    # in our case, we just had one setting per program so this isn't strictly uncessary\n",
    "    for setting in settings:\n",
    "        observable = setting.observable # get the PauliTerm\n",
    "        \n",
    "        # Obtain statistics from result of experiment\n",
    "        obs_mean, obs_var = shots_to_obs_moments(bitarray, meas_qs, observable)\n",
    "        \n",
    "        expt_results_as_obs.append(ExperimentResult(setting, obs_mean, std_err = np.sqrt(obs_var),\n",
    "                                                    total_counts = len(bitarray)))\n",
    "\n",
    "for res in expt_results_as_obs:\n",
    "    print(res)"
   ]
  },
  {
   "cell_type": "markdown",
   "metadata": {},
   "source": [
    "## All of the above is wrapped in a convenience function estimate_observables"
   ]
  },
  {
   "cell_type": "code",
   "execution_count": 6,
   "metadata": {},
   "outputs": [
    {
     "name": "stdout",
     "output_type": "stream",
     "text": [
      "X0_0→(1+0j)*X0: 0.92 +- 0.039191835884530846\n",
      "X0_0→(1+0j)*Y0: 0.16 +- 0.09871170143402452\n",
      "X0_0→(1+0j)*Z0: 0.02 +- 0.09997999799959989\n"
     ]
    }
   ],
   "source": [
    "from forest.benchmarking.operator_estimation import estimate_observables\n",
    "\n",
    "for res in estimate_observables(qc, obs_expt, num_shots=50, symmetrization_method = exhaustive_symmetrization):\n",
    "    print(res)\n"
   ]
  },
  {
   "cell_type": "markdown",
   "metadata": {},
   "source": [
    "## Finally after obtaining our results we can choose to calibrate our observables"
   ]
  },
  {
   "cell_type": "markdown",
   "metadata": {},
   "source": [
    "This uses essentially the same workflow as above except that the programs are generated for each observable via \n",
    "`get_calibration_program`. I'll only demonstrate the convience wrapper below."
   ]
  },
  {
   "cell_type": "code",
   "execution_count": 9,
   "metadata": {},
   "outputs": [
    {
     "name": "stdout",
     "output_type": "stream",
     "text": [
      "X0_0→(1+0j)*X0: 0.4651162790697675 +- 0.33757331148016795\n",
      "Original expectation was 0.4\n",
      "Observable cal expectation was 0.86 \n",
      "\n",
      "X0_0→(1+0j)*Y0: -0.44943820224719105 +- 0.3260556713675604\n",
      "Original expectation was -0.4\n",
      "Observable cal expectation was 0.89 \n",
      "\n",
      "X0_0→(1+0j)*Z0: 0.24096385542168677 +- 0.3734751606183784\n",
      "Original expectation was 0.2\n",
      "Observable cal expectation was 0.83 \n",
      "\n"
     ]
    }
   ],
   "source": [
    "from forest.benchmarking.operator_estimation import calibrate_observable_estimates\n",
    "\n",
    "for cal_res in calibrate_observable_estimates(qc, expt_results_as_obs, \n",
    "                                              symmetrization_method=exhaustive_symmetrization,\n",
    "                                             num_shots=100):\n",
    "    print(cal_res)\n",
    "    print(f'Original expectation was {cal_res.raw_expectation}')\n",
    "    print(f'Observable cal expectation was {cal_res.calibration_expectation} \\n')"
   ]
>>>>>>> meas-obs-refactor
  },
  {
   "cell_type": "code",
   "execution_count": null,
   "metadata": {},
   "outputs": [],
   "source": []
  },
  {
   "cell_type": "code",
   "execution_count": null,
   "metadata": {},
   "outputs": [],
   "source": []
  }
 ],
 "metadata": {
  "kernelspec": {
   "display_name": "Python 3",
   "language": "python",
   "name": "python3"
  },
  "language_info": {
   "codemirror_mode": {
    "name": "ipython",
    "version": 3
   },
   "file_extension": ".py",
   "mimetype": "text/x-python",
   "name": "python",
   "nbconvert_exporter": "python",
   "pygments_lexer": "ipython3",
<<<<<<< HEAD
   "version": "3.7.3"
=======
   "version": "3.6.5"
>>>>>>> meas-obs-refactor
  }
 },
 "nbformat": 4,
 "nbformat_minor": 2
}
